{
 "cells": [
  {
   "cell_type": "code",
   "execution_count": 1,
   "metadata": {
    "scrolled": false
   },
   "outputs": [
    {
     "data": {
      "text/html": [
       "<style>.container { width:90% !important; }</style>"
      ],
      "text/plain": [
       "<IPython.core.display.HTML object>"
      ]
     },
     "metadata": {},
     "output_type": "display_data"
    },
    {
     "name": "stdout",
     "output_type": "stream",
     "text": [
      "Preparing raw data...\n"
     ]
    },
    {
     "name": "stderr",
     "output_type": "stream",
     "text": [
      "\r",
      "  0%|                                                                                       | 0/123957 [00:00<?, ?it/s]"
     ]
    },
    {
     "name": "stdout",
     "output_type": "stream",
     "text": [
      "Constructing circumstances...\n"
     ]
    },
    {
     "name": "stderr",
     "output_type": "stream",
     "text": [
      "100%|███████████████████████████████████████████████████████████████████████| 123957/123957 [00:02<00:00, 44136.84it/s]\n",
      "100%|███████████████████████████████████████████████████████████████████████| 123957/123957 [00:03<00:00, 36527.34it/s]\n"
     ]
    },
    {
     "name": "stdout",
     "output_type": "stream",
     "text": [
      "Writing to raw data file...\n",
      "No existing output file found.\n",
      "Reading raw data input...\n"
     ]
    },
    {
     "name": "stderr",
     "output_type": "stream",
     "text": [
      "\r",
      "  0%|                                                                                       | 0/123957 [00:00<?, ?it/s]"
     ]
    },
    {
     "name": "stdout",
     "output_type": "stream",
     "text": [
      "Categorising MOs...\n"
     ]
    },
    {
     "name": "stderr",
     "output_type": "stream",
     "text": [
      "100%|███████████████████████████████████████████████████████████████████████| 123957/123957 [00:02<00:00, 49032.49it/s]\n"
     ]
    },
    {
     "name": "stdout",
     "output_type": "stream",
     "text": [
      "Writing labelled data output...\n",
      "Saved to excel\n",
      "Preparing data...\n",
      "Filtering dataframe...\n",
      "Cleaning problematic features...\n",
      "Encoding categorical features...\n",
      "Encoding \"extended\" (1/33)\n",
      "Encoding \"attacktype1\" (2/33)\n",
      "Encoding \"attacktype2\" (3/33)\n",
      "Encoding \"attacktype3\" (4/33)\n",
      "Encoding \"weaptype1\" (5/33)\n",
      "Encoding \"weaptype2\" (6/33)\n",
      "Encoding \"weaptype3\" (7/33)\n",
      "Encoding \"weaptype4\" (8/33)\n",
      "Encoding \"weapsubtype1\" (9/33)\n",
      "Encoding \"weapsubtype2\" (10/33)\n",
      "Encoding \"weapsubtype3\" (11/33)\n",
      "Encoding \"weapsubtype4\" (12/33)\n",
      "Encoding \"success\" (13/33)\n",
      "Encoding \"suicide\" (14/33)\n",
      "Encoding \"claimed\" (15/33)\n",
      "Encoding \"claimmode\" (16/33)\n",
      "Encoding \"claim2\" (17/33)\n",
      "Encoding \"claimmode2\" (18/33)\n",
      "Encoding \"claim3\" (19/33)\n",
      "Encoding \"claimmode3\" (20/33)\n",
      "Encoding \"compclaim\" (21/33)\n",
      "Encoding \"property\" (22/33)\n",
      "Encoding \"ishostkid\" (23/33)\n",
      "Encoding \"ransom\" (24/33)\n",
      "Encoding \"targtype1\" (25/33)\n",
      "Encoding \"targsubtype1\" (26/33)\n",
      "Encoding \"targtype2\" (27/33)\n",
      "Encoding \"targsubtype2\" (28/33)\n",
      "Encoding \"targtype3\" (29/33)\n",
      "Encoding \"targsubtype3\" (30/33)\n",
      "Encoding \"propextent\" (31/33)\n",
      "Encoding \"hostkidoutcome\" (32/33)\n",
      "Encoding \"multiple\" (33/33)\n",
      "Encoding completed.\n",
      "Number of features after data preparation: 585\n",
      "Multi-group encoding...\n"
     ]
    },
    {
     "name": "stderr",
     "output_type": "stream",
     "text": [
      "C:\\Users\\joeri\\Documents\\Projects\\git\\gtd\\mo_classification.py:38: SettingWithCopyWarning: \n",
      "A value is trying to be set on a copy of a slice from a DataFrame.\n",
      "Try using .loc[row_indexer,col_indexer] = value instead\n",
      "\n",
      "See the caveats in the documentation: https://pandas.pydata.org/pandas-docs/stable/user_guide/indexing.html#returning-a-view-versus-a-copy\n",
      "  dataset[feature] = data_preparation.encode_labels(dataset[feature])\n"
     ]
    },
    {
     "name": "stdout",
     "output_type": "stream",
     "text": [
      "Actual number of incidents included in current dataset: 15108\n",
      "Number of classes involved: 2\n",
      "Cross-validating (using 3 folds): RandomForestClassifier(class_weight='balanced', n_jobs=-1)\n",
      "Binary\n",
      "Results:  {\n",
      "    \"fit_time\": \"[2.80193496 0.91031647 0.87235451]\",\n",
      "    \"score_time\": \"[0.24274826 0.10522246 0.11636686]\",\n",
      "    \"test_accuracy\": \"[0.76528991 0.81989674 0.73649722]\",\n",
      "    \"test_f1_macro\": \"[0.75789738 0.81675897 0.72700621]\",\n",
      "    \"test_f1_weighted\": \"[0.76444985 0.82047288 0.7348699 ]\",\n",
      "    \"test_precision\": \"[0.7869016  0.85898816 0.75749674]\",\n",
      "    \"test_recall\": \"[0.81396149 0.82324622 0.7994496 ]\",\n",
      "    \"test_roc_auc\": \"[0.83513848 0.89263171 0.80033779]\"\n",
      "}\n",
      "Average results:  {\n",
      "    \"fit_time\": 1.528201977411906,\n",
      "    \"score_time\": 0.15477919578552246,\n",
      "    \"test_accuracy\": 0.7738946253640455,\n",
      "    \"test_f1_macro\": 0.7672208506308195,\n",
      "    \"test_f1_weighted\": 0.7732642093366439,\n",
      "    \"test_precision\": 0.8011288318677854,\n",
      "    \"test_recall\": 0.8122191024305827,\n",
      "    \"test_roc_auc\": 0.8427026632552135\n",
      "}\n",
      "Normalized confusion matrix\n"
     ]
    },
    {
     "data": {
      "image/png": "[encoded data removed]",
      "text/plain": [
       "<Figure size 360x360 with 2 Axes>"
      ]
     },
     "metadata": {
      "needs_background": "light"
     },
     "output_type": "display_data"
    },
    {
     "data": {
      "image/png": "[encoded data removed]",
      "text/plain": [
       "<Figure size 720x1080 with 1 Axes>"
      ]
     },
     "metadata": {
      "needs_background": "light"
     },
     "output_type": "display_data"
    },
    {
     "data": {
      "text/plain": [
       "<Figure size 720x1080 with 0 Axes>"
      ]
     },
     "metadata": {},
     "output_type": "display_data"
    }
   ],
   "source": [
    "from IPython.core.display import display, HTML\n",
    "import warnings\n",
    "%matplotlib inline  \n",
    "display(HTML(\"<style>.container { width:90% !important; }</style>\"))\n",
    "warnings.simplefilter(action='ignore', category=FutureWarning)\n",
    "%run \"../main.py\""
   ]
  },
  {
   "cell_type": "code",
   "execution_count": 2,
   "metadata": {},
   "outputs": [
    {
     "data": {
      "text/html": [
       "<div>\n",
       "<style scoped>\n",
       "    .dataframe tbody tr th:only-of-type {\n",
       "        vertical-align: middle;\n",
       "    }\n",
       "\n",
       "    .dataframe tbody tr th {\n",
       "        vertical-align: top;\n",
       "    }\n",
       "\n",
       "    .dataframe thead th {\n",
       "        text-align: right;\n",
       "    }\n",
       "</style>\n",
       "<table border=\"1\" class=\"dataframe\">\n",
       "  <thead>\n",
       "    <tr style=\"text-align: right;\">\n",
       "      <th></th>\n",
       "      <th>eventid</th>\n",
       "      <th>iyear</th>\n",
       "      <th>imonth</th>\n",
       "      <th>iday</th>\n",
       "      <th>approxdate</th>\n",
       "      <th>extended</th>\n",
       "      <th>resolution</th>\n",
       "      <th>country</th>\n",
       "      <th>country_txt</th>\n",
       "      <th>region</th>\n",
       "      <th>...</th>\n",
       "      <th>scite2</th>\n",
       "      <th>scite3</th>\n",
       "      <th>dbsource</th>\n",
       "      <th>INT_LOG</th>\n",
       "      <th>INT_IDEO</th>\n",
       "      <th>INT_MISC</th>\n",
       "      <th>INT_ANY</th>\n",
       "      <th>related</th>\n",
       "      <th>circumstance_time</th>\n",
       "      <th>circumstance_nvictims</th>\n",
       "    </tr>\n",
       "  </thead>\n",
       "  <tbody>\n",
       "    <tr>\n",
       "      <th>0</th>\n",
       "      <td>199801010001</td>\n",
       "      <td>1998</td>\n",
       "      <td>1</td>\n",
       "      <td>1</td>\n",
       "      <td>NaN</td>\n",
       "      <td>0</td>\n",
       "      <td>NaT</td>\n",
       "      <td>34</td>\n",
       "      <td>Burundi</td>\n",
       "      <td>11</td>\n",
       "      <td>...</td>\n",
       "      <td>“Burundi--Attack Reported on Bujumbura Airport...</td>\n",
       "      <td>NaN</td>\n",
       "      <td>CETIS</td>\n",
       "      <td>0</td>\n",
       "      <td>1</td>\n",
       "      <td>0</td>\n",
       "      <td>1</td>\n",
       "      <td>NaN</td>\n",
       "      <td>1998-1-1</td>\n",
       "      <td>10</td>\n",
       "    </tr>\n",
       "    <tr>\n",
       "      <th>1</th>\n",
       "      <td>199801010002</td>\n",
       "      <td>1998</td>\n",
       "      <td>1</td>\n",
       "      <td>1</td>\n",
       "      <td>NaN</td>\n",
       "      <td>0</td>\n",
       "      <td>NaT</td>\n",
       "      <td>167</td>\n",
       "      <td>Russia</td>\n",
       "      <td>9</td>\n",
       "      <td>...</td>\n",
       "      <td>“Bomb injures 3 in Moscow subway,” Charleston ...</td>\n",
       "      <td>“Bomb Injures 3 Workers in Moscow Metro,” Los ...</td>\n",
       "      <td>CETIS</td>\n",
       "      <td>-9</td>\n",
       "      <td>-9</td>\n",
       "      <td>0</td>\n",
       "      <td>-9</td>\n",
       "      <td>NaN</td>\n",
       "      <td>1998-1-1</td>\n",
       "      <td>3</td>\n",
       "    </tr>\n",
       "    <tr>\n",
       "      <th>2</th>\n",
       "      <td>199801010003</td>\n",
       "      <td>1998</td>\n",
       "      <td>1</td>\n",
       "      <td>1</td>\n",
       "      <td>NaN</td>\n",
       "      <td>0</td>\n",
       "      <td>NaT</td>\n",
       "      <td>603</td>\n",
       "      <td>United Kingdom</td>\n",
       "      <td>8</td>\n",
       "      <td>...</td>\n",
       "      <td>“Ulster Peace Shattered by Shooting: Catholic ...</td>\n",
       "      <td>NaN</td>\n",
       "      <td>CETIS</td>\n",
       "      <td>0</td>\n",
       "      <td>0</td>\n",
       "      <td>1</td>\n",
       "      <td>1</td>\n",
       "      <td>NaN</td>\n",
       "      <td>1998-1-1</td>\n",
       "      <td>1</td>\n",
       "    </tr>\n",
       "    <tr>\n",
       "      <th>3</th>\n",
       "      <td>199801020001</td>\n",
       "      <td>1998</td>\n",
       "      <td>1</td>\n",
       "      <td>2</td>\n",
       "      <td>NaN</td>\n",
       "      <td>0</td>\n",
       "      <td>NaT</td>\n",
       "      <td>95</td>\n",
       "      <td>Iraq</td>\n",
       "      <td>10</td>\n",
       "      <td>...</td>\n",
       "      <td>Farouk Choukri , “Iraq, UN Officials Continue ...</td>\n",
       "      <td>“Iraqi Interior Minister on UNSCOM Attack, Kuw...</td>\n",
       "      <td>CETIS</td>\n",
       "      <td>-9</td>\n",
       "      <td>-9</td>\n",
       "      <td>1</td>\n",
       "      <td>1</td>\n",
       "      <td>NaN</td>\n",
       "      <td>1998-1-2</td>\n",
       "      <td>0</td>\n",
       "    </tr>\n",
       "    <tr>\n",
       "      <th>4</th>\n",
       "      <td>199801020002</td>\n",
       "      <td>1998</td>\n",
       "      <td>1</td>\n",
       "      <td>2</td>\n",
       "      <td>NaN</td>\n",
       "      <td>0</td>\n",
       "      <td>NaT</td>\n",
       "      <td>155</td>\n",
       "      <td>West Bank and Gaza Strip</td>\n",
       "      <td>10</td>\n",
       "      <td>...</td>\n",
       "      <td>“Israeli Woman Critically Hurt by Gunfire in W...</td>\n",
       "      <td>NaN</td>\n",
       "      <td>CETIS</td>\n",
       "      <td>-9</td>\n",
       "      <td>-9</td>\n",
       "      <td>0</td>\n",
       "      <td>-9</td>\n",
       "      <td>NaN</td>\n",
       "      <td>1998-1-2</td>\n",
       "      <td>1</td>\n",
       "    </tr>\n",
       "  </tbody>\n",
       "</table>\n",
       "<p>5 rows × 137 columns</p>\n",
       "</div>"
      ],
      "text/plain": [
       "        eventid  iyear  imonth  iday approxdate  extended resolution  country  \\\n",
       "0  199801010001   1998       1     1        NaN         0        NaT       34   \n",
       "1  199801010002   1998       1     1        NaN         0        NaT      167   \n",
       "2  199801010003   1998       1     1        NaN         0        NaT      603   \n",
       "3  199801020001   1998       1     2        NaN         0        NaT       95   \n",
       "4  199801020002   1998       1     2        NaN         0        NaT      155   \n",
       "\n",
       "                country_txt  region  ...  \\\n",
       "0                   Burundi      11  ...   \n",
       "1                    Russia       9  ...   \n",
       "2            United Kingdom       8  ...   \n",
       "3                      Iraq      10  ...   \n",
       "4  West Bank and Gaza Strip      10  ...   \n",
       "\n",
       "                                              scite2  \\\n",
       "0  “Burundi--Attack Reported on Bujumbura Airport...   \n",
       "1  “Bomb injures 3 in Moscow subway,” Charleston ...   \n",
       "2  “Ulster Peace Shattered by Shooting: Catholic ...   \n",
       "3  Farouk Choukri , “Iraq, UN Officials Continue ...   \n",
       "4  “Israeli Woman Critically Hurt by Gunfire in W...   \n",
       "\n",
       "                                              scite3 dbsource  INT_LOG  \\\n",
       "0                                                NaN    CETIS        0   \n",
       "1  “Bomb Injures 3 Workers in Moscow Metro,” Los ...    CETIS       -9   \n",
       "2                                                NaN    CETIS        0   \n",
       "3  “Iraqi Interior Minister on UNSCOM Attack, Kuw...    CETIS       -9   \n",
       "4                                                NaN    CETIS       -9   \n",
       "\n",
       "   INT_IDEO  INT_MISC  INT_ANY related circumstance_time  \\\n",
       "0         1         0        1     NaN          1998-1-1   \n",
       "1        -9         0       -9     NaN          1998-1-1   \n",
       "2         0         1        1     NaN          1998-1-1   \n",
       "3        -9         1        1     NaN          1998-1-2   \n",
       "4        -9         0       -9     NaN          1998-1-2   \n",
       "\n",
       "   circumstance_nvictims  \n",
       "0                     10  \n",
       "1                      3  \n",
       "2                      1  \n",
       "3                      0  \n",
       "4                      1  \n",
       "\n",
       "[5 rows x 137 columns]"
      ]
     },
     "execution_count": 2,
     "metadata": {},
     "output_type": "execute_result"
    }
   ],
   "source": [
    "import pandas\n",
    "df = pd.read_excel(\"../../../unversioned/GTD_data/rawData.xlsx\")\n",
    "df.head()"
   ]
  },
  {
   "cell_type": "code",
   "execution_count": 6,
   "metadata": {},
   "outputs": [
    {
     "data": {
      "text/plain": [
       "nwound                   4.151378\n",
       "nwoundte                 1.079533\n",
       "circumstance_nvictims    5.107073\n",
       "multiple                 0.191677\n",
       "nkillter                 2.130125\n",
       "nkill                    4.533493\n",
       "dtype: float64"
      ]
     },
     "execution_count": 6,
     "metadata": {},
     "output_type": "execute_result"
    }
   ],
   "source": [
    "df[df['gname'] == 'Taliban'][{'circumstance_nvictims', 'nkill', 'nwound', 'multiple', 'nwoundte','nkillter'}].mean()"
   ]
  },
  {
   "cell_type": "code",
   "execution_count": 7,
   "metadata": {},
   "outputs": [
    {
     "data": {
      "text/plain": [
       "nwound                   5.981635\n",
       "nwoundte                 0.162272\n",
       "circumstance_nvictims    9.511825\n",
       "multiple                 0.307753\n",
       "nkillter                 1.981172\n",
       "nkill                    7.145978\n",
       "dtype: float64"
      ]
     },
     "execution_count": 7,
     "metadata": {},
     "output_type": "execute_result"
    }
   ],
   "source": [
    "df[df['gname'] == 'Islamic State of Iraq and the Levant (ISIL)'][{'circumstance_nvictims', 'nkill', 'nwound', 'multiple', 'nwoundte','nkillter'}].mean()"
   ]
  },
  {
   "cell_type": "code",
   "execution_count": 32,
   "metadata": {},
   "outputs": [
    {
     "data": {
      "text/plain": [
       "gname                                        targtype1\n",
       "Islamic State of Iraq and the Levant (ISIL)  1             285\n",
       "                                             2             186\n",
       "                                             3             767\n",
       "                                             4            1657\n",
       "                                             6               6\n",
       "                                             7               8\n",
       "                                             8              29\n",
       "                                             9               8\n",
       "                                             10             61\n",
       "                                             12             10\n",
       "                                             13             12\n",
       "                                             14           2533\n",
       "                                             15            128\n",
       "                                             17            257\n",
       "                                             18              2\n",
       "                                             19             63\n",
       "                                             20            258\n",
       "                                             21            102\n",
       "                                             22             13\n",
       "Taliban                                      1             251\n",
       "                                             2            1043\n",
       "                                             3            3023\n",
       "                                             4            1759\n",
       "                                             6              29\n",
       "                                             7              64\n",
       "                                             8             157\n",
       "                                             9               9\n",
       "                                             10             27\n",
       "                                             11              1\n",
       "                                             12             80\n",
       "                                             13              6\n",
       "                                             14           1573\n",
       "                                             15             91\n",
       "                                             16             43\n",
       "                                             17            133\n",
       "                                             18              3\n",
       "                                             19            113\n",
       "                                             20            283\n",
       "                                             21             30\n",
       "                                             22              5\n",
       "dtype: int64"
      ]
     },
     "execution_count": 32,
     "metadata": {},
     "output_type": "execute_result"
    }
   ],
   "source": [
    "df[(df['gname'] == 'Taliban') | (df['gname'] == 'Islamic State of Iraq and the Levant (ISIL)')].groupby(['gname','targtype1']).size()"
   ]
  }
 ],
 "metadata": {
  "kernelspec": {
   "display_name": "Python 3",
   "language": "python",
   "name": "python3"
  },
  "language_info": {
   "codemirror_mode": {
    "name": "ipython",
    "version": 3
   },
   "file_extension": ".py",
   "mimetype": "text/x-python",
   "name": "python",
   "nbconvert_exporter": "python",
   "pygments_lexer": "ipython3",
   "version": "3.8.1"
  }
 },
 "nbformat": 4,
 "nbformat_minor": 2
}
