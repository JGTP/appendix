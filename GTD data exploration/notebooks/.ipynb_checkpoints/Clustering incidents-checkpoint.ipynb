{
 "cells": [
  {
   "cell_type": "code",
   "execution_count": null,
   "metadata": {},
   "outputs": [],
   "source": [
    "import pandas as pd\n",
    "import geopandas as gpd\n",
    "import descartes\n",
    "from shapely.geometry import Point\n",
    "import matplotlib.pyplot as plt\n",
    "\n",
    "def world_map(df, group):\n",
    "    df = df[df['gname']!='Unknown']\n",
    "    df = df[(df['longitude'] != 0) | (df['latitude'] != 0) | (df['latitude'].notnull()) | (df['longitude'].notnull())]\n",
    "    df.dropna(subset=['longitude', 'latitude'], inplace=True)\n",
    "    crs = {'init': 'epsg:4326'}\n",
    "    geometry = [Point(xy) for xy in zip(df['longitude'], df['latitude'])]\n",
    "    attacks = gpd.GeoDataFrame(df, crs=crs, geometry=geometry)\n",
    "    world = gpd.read_file(gpd.datasets.get_path('naturalearth_lowres'))\n",
    "    world = world[world.continent!='Antarctica']\n",
    "    attacks = attacks.to_crs(world.crs)\n",
    "    target_group = attacks[attacks['gname']==group]\n",
    "    try:\n",
    "        percentage = round((len(target_group)/len(attacks))*100,2)\n",
    "        \n",
    "        base = world.plot(color='lightsteelblue', edgecolor='white', alpha=0.4)\n",
    "        attacks.plot(ax=base, marker='o', color='goldenrod', markersize=0.1, label='Taliban' + '   -   (' + str(100-percentage) + '%)')\n",
    "        target_group.plot(ax=base, marker='o', color='darkred', markersize=2, label=group + '   -   (' + str(percentage)  + '%)')\n",
    "        lgnd = plt.legend(prop={'size': 10})\n",
    "        for handle in lgnd.legendHandles:\n",
    "            handle.set_sizes([50.0])\n",
    "        plt.show()\n",
    "    except:\n",
    "        pass"
   ]
  },
  {
   "cell_type": "code",
   "execution_count": null,
   "metadata": {},
   "outputs": [],
   "source": [
    "df = pd.read_csv(data_path, index_col='eventid', header=0, sep=';')\n",
    "df = data_preparation.clean_data(df)\n",
    "rcParams['figure.figsize'] = 20, 25\n",
    "df = df[df['gname'].isin(groups)]\n",
    "world_map(df, groups[0])"
   ]
  },
  {
   "cell_type": "code",
   "execution_count": null,
   "metadata": {
    "scrolled": false
   },
   "outputs": [
    {
     "data": {
      "text/html": [
       "<style>.container { width:90% !important; }</style>"
      ],
      "text/plain": [
       "<IPython.core.display.HTML object>"
      ]
     },
     "metadata": {},
     "output_type": "display_data"
    },
    {
     "name": "stderr",
     "output_type": "stream",
     "text": [
      "/Users/joeri/Documents/GTD/gtd/gtd/lib/python3.7/site-packages/IPython/core/interactiveshell.py:3296: DtypeWarning: Columns (6,61,62,63,79,94,96,114,115) have mixed types. Specify dtype option on import or set low_memory=False.\n",
      "  exec(code_obj, self.user_global_ns, self.user_ns)\n"
     ]
    },
    {
     "name": "stdout",
     "output_type": "stream",
     "text": [
      "Filtering dataframe...\n",
      "Cleaning problematic features...\n",
      "Standardising numerical data...\n",
      "Applying FAMD...\n",
      "Number of features after dimension reduction: 10\n",
      "Number of features after data preparation: 10\n"
     ]
    }
   ],
   "source": [
    "from IPython.core.display import display, HTML\n",
    "import warnings\n",
    "%matplotlib inline  \n",
    "%run \"../main.py\"\n",
    "display(HTML(\"<style>.container { width:90% !important; }</style>\"))\n",
    "warnings.simplefilter(action='ignore', category=FutureWarning)\n",
    "pd.options.display.max_columns = 500\n",
    "pd.options.mode.chained_assignment = None\n",
    "data_path = \"../../data/98to17.csv\"\n",
    "run_clustering(data_path, n_components=10, test=False)"
   ]
  }
 ],
 "metadata": {
  "kernelspec": {
   "display_name": "Python 3",
   "language": "python",
   "name": "python3"
  },
  "language_info": {
   "codemirror_mode": {
    "name": "ipython",
    "version": 3
   },
   "file_extension": ".py",
   "mimetype": "text/x-python",
   "name": "python",
   "nbconvert_exporter": "python",
   "pygments_lexer": "ipython3",
   "version": "3.8.1"
  }
 },
 "nbformat": 4,
 "nbformat_minor": 2
}
