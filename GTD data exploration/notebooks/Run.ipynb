{
 "cells": [
  {
   "cell_type": "code",
   "execution_count": null,
   "metadata": {
    "scrolled": false
   },
   "outputs": [
    {
     "name": "stdout",
     "output_type": "stream",
     "text": [
      "Preparing raw data...\n"
     ]
    },
    {
     "name": "stderr",
     "output_type": "stream",
     "text": [
      "\r",
      "  0%|                                                                                       | 0/123957 [00:00<?, ?it/s]"
     ]
    },
    {
     "name": "stdout",
     "output_type": "stream",
     "text": [
      "Constructing circumstances...\n"
     ]
    },
    {
     "name": "stderr",
     "output_type": "stream",
     "text": [
      "100%|███████████████████████████████████████████████████████████████████████| 123957/123957 [00:02<00:00, 45359.93it/s]\n",
      "100%|███████████████████████████████████████████████████████████████████████| 123957/123957 [00:03<00:00, 37051.58it/s]\n",
      "100%|███████████████████████████████████████████████████████████████████████| 123957/123957 [00:02<00:00, 50151.78it/s]\n",
      "100%|███████████████████████████████████████████████████████████████████████| 123957/123957 [00:02<00:00, 46928.83it/s]\n"
     ]
    },
    {
     "name": "stdout",
     "output_type": "stream",
     "text": [
      "Writing to raw data file...\n",
      "No existing output file found.\n",
      "Reading raw data input...\n"
     ]
    }
   ],
   "source": [
    "from IPython.core.display import display, HTML\n",
    "import warnings\n",
    "%matplotlib inline  \n",
    "# display(HTML(\"<style>.container { width:90% !important; }</style>\"))\n",
    "warnings.simplefilter(action='ignore', category=FutureWarning)\n",
    "%run \"../main.py\""
   ]
  },
  {
   "cell_type": "code",
   "execution_count": 2,
   "metadata": {
    "scrolled": true
   },
   "outputs": [],
   "source": [
    "# rawDataPath = \"../../OWL/MOs/GTD_data/rawData.xlsx\"\n",
    "# import pandas\n",
    "# df = pd.read_excel(rawDataPath)\n",
    "# df.head()"
   ]
  }
 ],
 "metadata": {
  "kernelspec": {
   "display_name": "Python 3",
   "language": "python",
   "name": "python3"
  },
  "language_info": {
   "codemirror_mode": {
    "name": "ipython",
    "version": 3
   },
   "file_extension": ".py",
   "mimetype": "text/x-python",
   "name": "python",
   "nbconvert_exporter": "python",
   "pygments_lexer": "ipython3",
   "version": "3.8.1"
  }
 },
 "nbformat": 4,
 "nbformat_minor": 2
}
